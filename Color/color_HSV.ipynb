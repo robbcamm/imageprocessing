{
 "cells": [
  {
   "cell_type": "markdown",
   "metadata": {},
   "source": [
    "# HSV - Hue, Saturation, Value Colorspace\n",
    "Stough, 202-\n",
    "\n",
    "- [skimage's color module](https://scikit-image.org/docs/dev/api/skimage.color.html)\n",
    "- [What is HSV?](https://en.wikipedia.org/wiki/HSL_and_HSV)\n",
    "- [Why HSV?](https://dsp.stackexchange.com/questions/2687/why-do-we-use-the-hsv-colour-space-so-often-in-vision-and-image-processing)\n",
    "\n",
    "The HSV and closely related HSL colorspaces are ways of considering 'color' that \n",
    "separate the brightness of a color from its tone and purity. This is useful because we\n",
    "as humans are highly atuned to *brightness changes* in our perception. So if the RGB space speaks\n",
    "to the mechanism by which we receive a color stimulus--activation of red, green, and \n",
    "blue-centered cones--then the HSV speaks more to how we *perceive* a color.\n",
    "\n",
    "<img src=\"../dip_figs/rgb_hsv_diagram.jpeg\" style=\"width:500px;height:200px\"/> <img src=\"../dip_figs/hsl_cylinder.png\" style=\"width:250px;height:200px\"/>"
   ]
  },
  {
   "cell_type": "code",
   "execution_count": 1,
   "metadata": {},
   "outputs": [],
   "source": [
    "%matplotlib widget\n",
    "import matplotlib.pyplot as plt\n",
    "import numpy as np\n",
    "import matplotlib.colors as mcolors\n",
    "import skimage.color as color\n",
    "from ipywidgets import VBox, HBox, FloatSlider\n",
    "\n",
    "# For importing from alternative directory sources\n",
    "import sys  \n",
    "sys.path.insert(0, '../dip_utils')\n",
    "\n",
    "import matrix_utils\n",
    "from vis_utils import (vis_rgb_cube,\n",
    "                       vis_hsv_cube,\n",
    "                       vis_hists,\n",
    "                       lab_uniform)"
   ]
  },
  {
   "cell_type": "markdown",
   "metadata": {},
   "source": [
    "## Viewing the planes of the HSV space.\n",
    "Here I'll make a little interactive plot on the HSV space for various saturation, thanks to HYRY's [stackoverflow answer](https://stackoverflow.com/questions/10787103/2d-hsv-color-space-in-matplotlib). We first stack together an HSV image, then convert to RGB so that we can display it.\n",
    "\n",
    "There is a bit of a problem with these demos. The `plt.ioff()` and `plt.ion()` are required to avoid duplication of plots when putting together an interactive demo. `plt.close()` is used to make sure those plots don't regenerate later in the notebook. "
   ]
  },
  {
   "cell_type": "code",
   "execution_count": 17,
   "metadata": {},
   "outputs": [],
   "source": [
    "def changeSat(HSV, newvalue=1.0):\n",
    "    H, S, V = np.split(HSV, indices_or_sections=3, axis=-1)\n",
    "    S = newvalue*np.ones_like(V)\n",
    "    HSV = np.dstack((H,S,V))\n",
    "    return color.hsv2rgb(HSV)"
   ]
  },
  {
   "cell_type": "code",
   "execution_count": 18,
   "metadata": {},
   "outputs": [
    {
     "data": {
      "application/vnd.jupyter.widget-view+json": {
       "model_id": "705b3abe30734ec18c6c6662399b7ec4",
       "version_major": 2,
       "version_minor": 0
      },
      "text/plain": [
       "VBox(children=(FloatSlider(value=1.0, description='$S_{HSV}$', max=1.0, step=0.01), Canvas(header_visible=Fals…"
      ]
     },
     "metadata": {},
     "output_type": "display_data"
    }
   ],
   "source": [
    "plt.ioff()\n",
    "# plt.clf()\n",
    "\n",
    "# Set up the initial display\n",
    "V, H = np.mgrid[0:1:100j, 0:1:360j]\n",
    "S = np.ones_like(V)\n",
    "HSV = np.dstack((H,S,V))\n",
    "RGB = color.hsv2rgb(HSV)\n",
    "\n",
    "\n",
    "# A slider to set the saturation.\n",
    "sat_slider = FloatSlider(\n",
    "    orientation='horizontal',\n",
    "    value=1.0,\n",
    "    min=0.00,\n",
    "    max=1.00,\n",
    "    step=0.01,\n",
    "    description='$S_{HSV}$'\n",
    ")\n",
    "\n",
    "# Setting up the figure.\n",
    "fig_args = {'num':1, 'frameon':True}\n",
    "fig, ax = plt.subplots(1,1, figsize=(6,3), **fig_args)\n",
    "fig.canvas.header_visible = False\n",
    "\n",
    "thedisp = ax.imshow(RGB, origin='lower', extent=[0, 360, 0, 1], aspect=150)\n",
    "plt.xlabel('H') # These don't need to change\n",
    "plt.ylabel('V')\n",
    "thetext = ax.set_title('$S_{HSV}=1$')\n",
    "plt.tight_layout()\n",
    "\n",
    "def update_image(change):\n",
    "    global thedisp, thetext, HSV\n",
    "    \n",
    "    I_rgb = changeSat(HSV, change.new)\n",
    "    thedisp.set_array(I_rgb)\n",
    "    thetext.set_text(f'$S_{{HSV}}$={change.new:.02f}')\n",
    "    fig.canvas.draw()\n",
    "    fig.canvas.flush_events()\n",
    "\n",
    "sat_slider.observe(update_image, names='value')\n",
    "\n",
    "VBox([sat_slider, fig.canvas])\n"
   ]
  },
  {
   "cell_type": "code",
   "execution_count": 4,
   "metadata": {},
   "outputs": [],
   "source": [
    "# Close the above interactive demo figure, so that it won't appear later.\n",
    "plt.close(1)"
   ]
  },
  {
   "cell_type": "markdown",
   "metadata": {},
   "source": [
    "## Viewing an image as RGB and HSV for comparison"
   ]
  },
  {
   "cell_type": "code",
   "execution_count": 5,
   "metadata": {},
   "outputs": [],
   "source": [
    "IMAGE = 'mountainSpring.jpg'\n",
    "# IMAGE = 'peppers.png'\n",
    "# IMAGE = 'blueridge.jpg'\n",
    "\n",
    "# Let's construct our own colormaps\n",
    "cm_KR = mcolors.LinearSegmentedColormap.from_list('kr', [(0,0,0), (1, 0, 0)], 256)\n",
    "cm_KG = mcolors.LinearSegmentedColormap.from_list('kg', [(0,0,0), (0, 1, 0)], 256)\n",
    "cm_KB = mcolors.LinearSegmentedColormap.from_list('kb', [(0,0,0), (0, 0, 1)], 256)"
   ]
  },
  {
   "cell_type": "code",
   "execution_count": 6,
   "metadata": {},
   "outputs": [],
   "source": [
    "Irgb = plt.imread('../dip_pics/' + IMAGE)\n",
    "\n",
    "# Image of uniform random distributed color\n",
    "# Irgb = np.random.random((100,100,3))"
   ]
  },
  {
   "cell_type": "code",
   "execution_count": 7,
   "metadata": {},
   "outputs": [
    {
     "data": {
      "application/vnd.jupyter.widget-view+json": {
       "model_id": "3ca68fd892d04cfd9e7049b821594e6a",
       "version_major": 2,
       "version_minor": 0
      },
      "text/plain": [
       "Canvas(toolbar=Toolbar(toolitems=[('Home', 'Reset original view', 'home', 'home'), ('Back', 'Back to previous …"
      ]
     },
     "metadata": {},
     "output_type": "display_data"
    }
   ],
   "source": [
    "# plt.clf()\n",
    "plt.ion()\n",
    "\n",
    "f, ax = plt.subplots(3,3, figsize = (8,6), sharex=True, sharey=True)\n",
    "\n",
    "Ihsv = color.rgb2hsv(Irgb)\n",
    "\n",
    "# Row 0: just the full color image\n",
    "ax[0][1].imshow(Irgb)\n",
    "ax[0][0].set_axis_off()\n",
    "ax[0][2].set_axis_off()\n",
    "\n",
    "# Row 1: r g b channels\n",
    "for i in range(3):\n",
    "    ax[1,i].imshow(Irgb[...,i], cmap=[cm_KR, cm_KG, cm_KB][i])\n",
    "    ax[1,i].set_title(['Red', 'Green', 'Blue'][i])\n",
    "\n",
    "\n",
    "# Now to display the HSV space.\n",
    "\n",
    "cmapNameHue = 'myHue'\n",
    "colorsH = [(.7,0,0), (.5,.5,0), (0,.7,0), (0,.5,.5), (0,0,.7), (.5, 0, .5), (.7, 0, 0)]\n",
    "cmHue = mcolors.LinearSegmentedColormap.from_list(cmapNameHue, lab_uniform(colorsH), 256)\n",
    "\n",
    "\n",
    "ax[2,0].imshow(Ihsv[...,0], cmap=cmHue)\n",
    "ax[2,0].set_title('H')\n",
    "\n",
    "ax[2,1].imshow(Ihsv[...,1], cmap='gray')\n",
    "ax[2,1].set_title('S')\n",
    "\n",
    "ax[2,2].imshow(Ihsv[...,2], cmap='gray')\n",
    "ax[2,2].set_title('V')\n",
    "\n",
    "plt.tight_layout()\n",
    "f.canvas.set_window_title('RGB vs HSV')\n",
    "plt.show()"
   ]
  },
  {
   "cell_type": "code",
   "execution_count": 8,
   "metadata": {},
   "outputs": [
    {
     "data": {
      "text/plain": [
       "((1200, 1600, 3), dtype('float64'), 0.0, 1.0)"
      ]
     },
     "execution_count": 8,
     "metadata": {},
     "output_type": "execute_result"
    }
   ],
   "source": [
    "matrix_utils.arr_info(Ihsv)"
   ]
  },
  {
   "cell_type": "markdown",
   "metadata": {},
   "source": [
    "&nbsp;\n",
    "\n",
    "## Let's visualize in 3D\n",
    "\n",
    "Given the HSV graph above, Hue can be seen as P, and Saturation as R in polar coordinates. Value \n",
    "is the Z. Easy. So then, how to [plot in polar coords](https://matplotlib.org/3.1.0/gallery/mplot3d/surface3d_radial.html)?"
   ]
  },
  {
   "cell_type": "code",
   "execution_count": 9,
   "metadata": {},
   "outputs": [
    {
     "data": {
      "application/vnd.jupyter.widget-view+json": {
       "model_id": "0f3deb978bcd4f979b68b41bf821d917",
       "version_major": 2,
       "version_minor": 0
      },
      "text/plain": [
       "Canvas(toolbar=Toolbar(toolitems=[('Home', 'Reset original view', 'home', 'home'), ('Back', 'Back to previous …"
      ]
     },
     "metadata": {},
     "output_type": "display_data"
    }
   ],
   "source": [
    "vis_hsv_cube(Irgb)"
   ]
  },
  {
   "cell_type": "markdown",
   "metadata": {},
   "source": [
    "&nbsp;\n",
    "\n",
    "## Manipulating the HSV components of an image...\n",
    "In the below interactive visualization we can manipulate the hue of an image. Try to complete the application by adding saturation and value sliders to this image manipulation tool.\n",
    "\n",
    "Thanks XKCD:\n",
    "\n",
    "<a href=\"https://xkcd.com/648/\"><img src=\"https://imgs.xkcd.com/comics/fall_foliage.png\" style=\"height:300px\"/></a>\n"
   ]
  },
  {
   "cell_type": "code",
   "execution_count": 88,
   "metadata": {},
   "outputs": [],
   "source": [
    "%matplotlib widget\n",
    "import matplotlib.pyplot as plt\n",
    "import numpy as np\n",
    "import matplotlib.colors as mcolors\n",
    "import skimage.color as color\n",
    "from ipywidgets import VBox, HBox, FloatSlider\n",
    "\n",
    "# For importing from alternative directory sources\n",
    "import sys  \n",
    "sys.path.insert(0, '../dip_utils')\n",
    "\n",
    "import matrix_utils\n",
    "from vis_utils import (vis_rgb_cube,\n",
    "                       vis_hsv_cube,\n",
    "                       vis_hists,\n",
    "                       lab_uniform)\n",
    "\n",
    "\n",
    "# I like this image more \n",
    "Irgb = plt.imread('../dip_pics/blueridge.jpg')\n",
    "Ihsv = color.rgb2hsv(Irgb)"
   ]
  },
  {
   "cell_type": "code",
   "execution_count": 89,
   "metadata": {},
   "outputs": [],
   "source": [
    "def changeHue(newhue):\n",
    "    global Ihsv \n",
    "    change = newhue - Ihsv[...,0].mean()\n",
    "    \n",
    "    Ic = Ihsv.copy()\n",
    "    Ic[...,0] = np.fmod(Ic[...,0]+change, 1) # anything > 1 wraps around 0.\n",
    "    \n",
    "    return np.clip(Ic, 0, 1)"
   ]
  },
  {
   "cell_type": "code",
   "execution_count": 90,
   "metadata": {},
   "outputs": [
    {
     "data": {
      "application/vnd.jupyter.widget-view+json": {
       "model_id": "2a9fafe57c1f431b95a9f646ad3f2f28",
       "version_major": 2,
       "version_minor": 0
      },
      "text/plain": [
       "VBox(children=(FloatSlider(value=0.26437149935409987, description='Hue', max=1.0, step=0.01), Canvas(toolbar=T…"
      ]
     },
     "metadata": {},
     "output_type": "display_data"
    }
   ],
   "source": [
    "plt.ioff()\n",
    "# plt.clf()\n",
    "\n",
    "hue_mean = Ihsv[...,0].mean()\n",
    "\n",
    "hue_slider = FloatSlider(\n",
    "    orientation='horizontal',\n",
    "    value=hue_mean,\n",
    "    min=0.00,\n",
    "    max=1.00,\n",
    "    step=0.01,\n",
    "    description='Hue'\n",
    ")\n",
    "\n",
    "fig_args = {'num':' ', 'frameon':True, 'sharex':True, 'sharey':True}\n",
    "fig, ax = plt.subplots(1,2, figsize=(8,3), **fig_args) \n",
    "\n",
    "I_h = changeHue(hue_mean)\n",
    "I_rgb = color.hsv2rgb(I_h)\n",
    "\n",
    "# display artists I'll update\n",
    "adisp = ax[0].imshow(Irgb)\n",
    "rdisp = ax[1].imshow(I_rgb)\n",
    "\n",
    "ax[0].set_title(f'Original ({hue_mean:.03f})')\n",
    "rtext = ax[1].set_title(f'Hue: {hue_mean:.03f}')\n",
    "\n",
    "\n",
    "def update_image(change):\n",
    "    global Ihsv, I_h, adisp, rdisp, rtext\n",
    "    \n",
    "    I_rgb = color.hsv2rgb(changeHue(change.new)) \n",
    "    rdisp.set_array(I_rgb)\n",
    "    rtext.set_text(f'Hue: {change.new:.03f}') #hue_slider.value\n",
    "    fig.canvas.draw()\n",
    "    fig.canvas.flush_events()\n",
    "\n",
    "hue_slider.observe(update_image, names='value')\n",
    "\n",
    "plt.tight_layout()\n",
    "\n",
    "VBox([hue_slider, fig.canvas])"
   ]
  },
  {
   "cell_type": "code",
   "execution_count": 97,
   "metadata": {},
   "outputs": [],
   "source": [
    "%matplotlib widget\n",
    "import matplotlib.pyplot as plt\n",
    "import numpy as np\n",
    "import matplotlib.colors as mcolors\n",
    "import skimage.color as color\n",
    "from ipywidgets import VBox, HBox, FloatSlider\n",
    "\n",
    "# For importing from alternative directory sources\n",
    "import sys  \n",
    "sys.path.insert(0, '../dip_utils')\n",
    "\n",
    "import matrix_utils\n",
    "from vis_utils import (vis_rgb_cube,\n",
    "                       vis_hsv_cube,\n",
    "                       vis_hists,\n",
    "                       lab_uniform)\n",
    "\n",
    "\n",
    "# I like this image more \n",
    "Irgb = plt.imread('../dip_pics/blueridge.jpg')\n",
    "Ihsv = color.rgb2hsv(Irgb)"
   ]
  },
  {
   "cell_type": "code",
   "execution_count": 98,
   "metadata": {},
   "outputs": [],
   "source": [
    "def changeHue(newhue):\n",
    "    global Ihsv\n",
    "    change = newhue - Ihsv[...,0].mean()\n",
    "    \n",
    "    Ic = Ihsv.copy()\n",
    "    Ic[...,0] = np.fmod(Ic[...,0]+change, 1) # anything > 1 wraps around 0.\n",
    "    \n",
    "    return np.clip(Ic, 0, 1)\n",
    "\n",
    "\n",
    "def changeSat(newSat):\n",
    "    global Ihsv\n",
    "    #change = newSat - Ihsv[...,0].mean()\n",
    "    \n",
    "    #H, S, V = np.split(Ihsv, indices_or_sections=3, axis=-1)\n",
    "    #S = newSat*np.ones_like(V)\n",
    "    #Ihsv = np.dstack((H,S,V))\n",
    "    #Ic = Ihsv.copy()\n",
    "    \n",
    "    #Ic[...,0] = np.fmod(Ic[...,0]+change, 1) # anything > 1 wraps around 0.\n",
    "    \n",
    "    \n",
    "    Ihsv = color.rgb2hsv(Irgb)\n",
    "    Ihsv[...,1]=np.where(Ihsv[...,1]*newSat > 1.0, 1.0, Ihsv[...,1]*newSat)\n",
    "    \n",
    "    return np.clip(Ihsv, 0, 1)\n",
    "                   \n",
    "\n",
    "def changeVal(newVal):\n",
    "    global Ihsv\n",
    "    \n",
    "    change = newVal - Ihsv[...,0].mean()\n",
    "    \n",
    "    Ic = Ihsv.copy()\n",
    "    Ic[...,0] = np.fmod(Ic[...,0]+change, 1)\n",
    "    \n",
    "    return np.clip(Ic, 0, 1)\n",
    "\n"
   ]
  },
  {
   "cell_type": "code",
   "execution_count": 99,
   "metadata": {},
   "outputs": [
    {
     "data": {
      "application/vnd.jupyter.widget-view+json": {
       "model_id": "79af93a0d198416c9fe9900809247aa5",
       "version_major": 2,
       "version_minor": 0
      },
      "text/plain": [
       "VBox(children=(HBox(children=(FloatSlider(value=0.26437149935409987, description='Hue', max=1.0, step=0.01), F…"
      ]
     },
     "metadata": {},
     "output_type": "display_data"
    }
   ],
   "source": [
    "plt.ioff()\n",
    "# plt.clf()\n",
    "hue_mean = Ihsv[...,0].mean()\n",
    "\n",
    "sat_mean = .5\n",
    "\n",
    "val_mean = .5\n",
    "\n",
    "\n",
    "hue_slider = FloatSlider(\n",
    "    orientation='horizontal',\n",
    "    value=hue_mean,\n",
    "    min=0.00,\n",
    "    max=1.00,\n",
    "    step=0.01,\n",
    "    description='Hue'\n",
    ")\n",
    "\n",
    "sat_slider = FloatSlider(\n",
    "    orientation='horizontal',\n",
    "    value=0.5,\n",
    "    min=0.00,\n",
    "    max=1.00,\n",
    "    step=0.01,\n",
    "    description='Sat'\n",
    ")\n",
    "\n",
    "val_slider = FloatSlider(\n",
    "    orientation='horizontal',\n",
    "    value=.5,\n",
    "    min=0.00,\n",
    "    max=1.00,\n",
    "    step=0.01,\n",
    "    description='Val'\n",
    ")\n",
    "\n",
    "\n",
    "\n",
    "fig_args = {'num':' ', 'frameon':True, 'sharex':True, 'sharey':True}\n",
    "fig, ax = plt.subplots(1,2, figsize=(8,3), **fig_args) \n",
    "\n",
    "I_h = changeHue(hue_mean)\n",
    "I_s = changeSat(0.5)\n",
    "I_v = changeVal(.5)\n",
    "IH_rgb = color.hsv2rgb(I_h)\n",
    "IS_rgb = color.hsv2rgb(I_s)\n",
    "IV_rgb = color.hsv2rgb(I_v)\n",
    "\n",
    "\n",
    "# display artists I'll update\n",
    "adisp = ax[0].imshow(Irgb)\n",
    "rdisp = ax[1].imshow(IH_rgb)\n",
    "\n",
    "ax[0].set_title(f'Original')\n",
    "rtext = ax[1].set_title(f'H: {hue_mean:.03f}' + \\' S: {sat_mean:.03f}'' V: {val_mean:.03f}')\n",
    "\n",
    "\n",
    "def update_image(change):\n",
    "    global Ihsv, I_h, I_s, I_v, adisp, rdisp, rtext, IH_rgb, IS_rgb, IV_rgb\n",
    "    \n",
    "    #Change Hue\n",
    "    IH_rgb = color.hsv2rgb(changeHue(change.new))\n",
    "    \n",
    "    rdisp.set_array(IH_rgb)\n",
    "    rtext.set_text(f'H: {change.new:.03f}') #hue_slider.value\n",
    "    fig.canvas.draw()\n",
    "    fig.canvas.flush_events()\n",
    "    \n",
    "    #Change Saturation\n",
    "    IS_rgb = color.hsv2rgb(changeSat(change.new))\n",
    "    \n",
    "    rdisp.set_array(IS_rgb)\n",
    "    rtext.set_text(f'S: {change.new:.03f}') #saturation_slider.value\n",
    "    fig.canvas.draw()\n",
    "    fig.canvas.flush_events()\n",
    "    \n",
    "    #Change Value\n",
    "    IV_rgb = color.hsv2rgb(changeVal(change.new))\n",
    "    \n",
    "    rdisp.set_array(IV_rgb)\n",
    "    rtext.set_text(f'V: {change.new:.03f}') #value_slider.value\n",
    "    fig.canvas.draw()\n",
    "    fig.canvas.flush_events()\n",
    "\n",
    "hue_slider.observe(update_image, names='value')\n",
    "sat_slider.observe(update_image, names='value')\n",
    "val_slider.observe(update_image, names='value')\n",
    "\n",
    "plt.tight_layout()\n",
    "\n",
    "VBox([HBox([hue_slider, sat_slider, val_slider]), fig.canvas])"
   ]
  },
  {
   "cell_type": "code",
   "execution_count": 1,
   "metadata": {},
   "outputs": [],
   "source": [
    "%matplotlib widget\n",
    "import matplotlib.pyplot as plt\n",
    "import numpy as np\n",
    "import matplotlib.colors as mcolors\n",
    "import skimage.color as color\n",
    "from ipywidgets import VBox, HBox, FloatSlider\n",
    "\n",
    "# For importing from alternative directory sources\n",
    "import sys  \n",
    "sys.path.insert(0, '../dip_utils')\n",
    "\n",
    "import matrix_utils\n",
    "from vis_utils import (vis_rgb_cube,\n",
    "                       vis_hsv_cube,\n",
    "                       vis_hists,\n",
    "                       lab_uniform)\n",
    "\n",
    "\n",
    "# I like this image more \n",
    "Irgb = plt.imread('../dip_pics/blueridge.jpg')\n",
    "Ihsv = color.rgb2hsv(Irgb)"
   ]
  },
  {
   "cell_type": "code",
   "execution_count": 2,
   "metadata": {},
   "outputs": [],
   "source": [
    "def changeHSV(new):\n",
    "    global Irgb, hue_slider, sat_slider, val_slider, I_change, Ihsv\n",
    "    HSV = color.rgb2hsv(Irgb)\n",
    "\n",
    "    H, S, V = np.split(HSV, indices_or_sections=3, axis=-1)\n",
    "    \n",
    "    H2 = H.copy()\n",
    "    H2 = (1-new)*H.min() + new*H.max()\n",
    "    H2 = H2.clip(0, 1)\n",
    "    \n",
    "    \n",
    "    S2 = S.copy()\n",
    "    S2 = (1-new)*S.min() + new*S.max()\n",
    "    #S2[S2 > .2] = S2[S2 > .2] + new\n",
    "    S2 = S2.clip(0, 1)\n",
    "    \n",
    "    V2 = V.copy()\n",
    "    V2 = (1-new)*V.min() + new*V.max()\n",
    "    V2 = V2.clip(0, 1)\n",
    "    \n",
    "    HSV = np.dstack((H2,S2,V2))\n",
    "    I_change = HSV.copy()\n",
    "    return I_change\n"
   ]
  },
  {
   "cell_type": "code",
   "execution_count": 3,
   "metadata": {},
   "outputs": [
    {
     "data": {
      "application/vnd.jupyter.widget-view+json": {
       "model_id": "ef121137d43e4d3eaba0118c4e843d8a",
       "version_major": 2,
       "version_minor": 0
      },
      "text/plain": [
       "VBox(children=(HBox(children=(FloatSlider(value=0.26437149935409987, description='Hue', max=1.0, step=0.01), F…"
      ]
     },
     "metadata": {},
     "output_type": "display_data"
    }
   ],
   "source": [
    "plt.ioff()\n",
    "# plt.clf()\n",
    "\n",
    "hue_mean = Ihsv[...,0].mean()\n",
    "\n",
    "sat_mean = Ihsv[...,1].mean()\n",
    "\n",
    "val_mean = Ihsv[...,2].mean()\n",
    "\n",
    "\n",
    "hue_slider = FloatSlider(\n",
    "    orientation='horizontal',\n",
    "    value=hue_mean,\n",
    "    min=0.00,\n",
    "    max=1.00,\n",
    "    step=0.01,\n",
    "    description='Hue'\n",
    ")\n",
    "\n",
    "sat_slider = FloatSlider(\n",
    "    orientation='horizontal',\n",
    "    value=sat_mean,\n",
    "    min=0.00,\n",
    "    max=1.00,\n",
    "    step=0.01,\n",
    "    description='Sat'\n",
    ")\n",
    "\n",
    "val_slider = FloatSlider(\n",
    "    orientation='horizontal',\n",
    "    value=val_mean,\n",
    "    min=0.00,\n",
    "    max=1.00,\n",
    "    step=0.01,\n",
    "    description='Val'\n",
    ")\n",
    "\n",
    "\n",
    "\n",
    "fig_args = {'num':' ', 'frameon':True, 'sharex':True, 'sharey':True}\n",
    "fig, ax = plt.subplots(1,2, figsize=(8,3), **fig_args) \n",
    "\n",
    "# display artists I'll update\n",
    "adisp = ax[0].imshow(Irgb)\n",
    "rdisp = ax[1].imshow(Ihsv)\n",
    "\n",
    "ax[0].set_title(f'Original')\n",
    "rtext = ax[1].set_title(f'H: {hue_slider.value:.03f}' + f'S: {sat_slider.value:.03f}' + f'V: {val_slider.value:.03f}')\n",
    "\n",
    "def update_image(change):\n",
    "    global Ihsv, adisp, rdisp, rtext, I_change, hue_slider, val_slider, sat_slider, Irgb\n",
    "    \n",
    "    IH_rgb = (changeHSV(hue_slider.value))\n",
    "\n",
    "    IS_rgb = (changeHSV(sat_slider.value))\n",
    "\n",
    "    IV_rgb = (changeHSV(val_slider.value))\n",
    "\n",
    "    I_change = color.hsv2rgb(I_change)\n",
    "    \n",
    "    rdisp.set_array(I_change)\n",
    "    \n",
    "    rtext.set_text(f'H: {hue_slider.value:.03f}' + f'S: {sat_slider.value:.03f}' + f'V: {val_slider.value:.03f}')      \n",
    "    fig.canvas.draw()\n",
    "    fig.canvas.flush_events()\n",
    "    \n",
    "\n",
    "hue_slider.observe(update_image, names='value')\n",
    "sat_slider.observe(update_image, names='value')\n",
    "val_slider.observe(update_image, names='value')\n",
    "\n",
    "plt.tight_layout()\n",
    "\n",
    "VBox([HBox([hue_slider, sat_slider, val_slider]), fig.canvas])"
   ]
  },
  {
   "cell_type": "code",
   "execution_count": null,
   "metadata": {},
   "outputs": [],
   "source": []
  },
  {
   "cell_type": "code",
   "execution_count": 16,
   "metadata": {},
   "outputs": [
    {
     "ename": "NameError",
     "evalue": "name 'image_hsv' is not defined",
     "output_type": "error",
     "traceback": [
      "\u001b[0;31m---------------------------------------------------------------------------\u001b[0m",
      "\u001b[0;31mNameError\u001b[0m                                 Traceback (most recent call last)",
      "\u001b[0;32m<ipython-input-16-9dffd7c47c42>\u001b[0m in \u001b[0;36m<module>\u001b[0;34m\u001b[0m\n\u001b[1;32m      2\u001b[0m \u001b[0mfig\u001b[0m\u001b[0;34m.\u001b[0m\u001b[0msubplots_adjust\u001b[0m\u001b[0;34m(\u001b[0m\u001b[0mhspace\u001b[0m \u001b[0;34m=\u001b[0m \u001b[0;36m.4\u001b[0m\u001b[0;34m)\u001b[0m\u001b[0;34m\u001b[0m\u001b[0;34m\u001b[0m\u001b[0m\n\u001b[1;32m      3\u001b[0m \u001b[0;34m\u001b[0m\u001b[0m\n\u001b[0;32m----> 4\u001b[0;31m \u001b[0ma\u001b[0m \u001b[0;34m=\u001b[0m \u001b[0mimage_hsv\u001b[0m\u001b[0;34m[\u001b[0m\u001b[0;34m:\u001b[0m\u001b[0;34m,\u001b[0m\u001b[0;34m:\u001b[0m\u001b[0;34m,\u001b[0m\u001b[0;36m0\u001b[0m\u001b[0;34m]\u001b[0m\u001b[0;34m\u001b[0m\u001b[0;34m\u001b[0m\u001b[0m\n\u001b[0m\u001b[1;32m      5\u001b[0m \u001b[0mhist\u001b[0m\u001b[0;34m,\u001b[0m \u001b[0mbins\u001b[0m \u001b[0;34m=\u001b[0m \u001b[0mnp\u001b[0m\u001b[0;34m.\u001b[0m\u001b[0mhistogram\u001b[0m\u001b[0;34m(\u001b[0m\u001b[0ma\u001b[0m\u001b[0;34m,\u001b[0m \u001b[0mbins\u001b[0m\u001b[0;34m=\u001b[0m\u001b[0;36m100\u001b[0m\u001b[0;34m,\u001b[0m \u001b[0mnormed\u001b[0m\u001b[0;34m=\u001b[0m\u001b[0;32mTrue\u001b[0m\u001b[0;34m)\u001b[0m\u001b[0;34m\u001b[0m\u001b[0;34m\u001b[0m\u001b[0m\n\u001b[1;32m      6\u001b[0m \u001b[0mbin_centers\u001b[0m \u001b[0;34m=\u001b[0m \u001b[0;34m(\u001b[0m\u001b[0mbins\u001b[0m\u001b[0;34m[\u001b[0m\u001b[0;36m1\u001b[0m\u001b[0;34m:\u001b[0m\u001b[0;34m]\u001b[0m\u001b[0;34m+\u001b[0m\u001b[0mbins\u001b[0m\u001b[0;34m[\u001b[0m\u001b[0;34m:\u001b[0m\u001b[0;34m-\u001b[0m\u001b[0;36m1\u001b[0m\u001b[0;34m]\u001b[0m\u001b[0;34m)\u001b[0m\u001b[0;34m*\u001b[0m\u001b[0;36m0.5\u001b[0m\u001b[0;34m\u001b[0m\u001b[0;34m\u001b[0m\u001b[0m\n",
      "\u001b[0;31mNameError\u001b[0m: name 'image_hsv' is not defined"
     ]
    }
   ],
   "source": [
    "\n",
    "\n",
    "\n",
    "fig, ax = plt.subplots(3,1, figsize = (8,8))\n",
    "fig.subplots_adjust(hspace = .4)\n",
    "\n",
    "a = image_hsv[:,:,0]\n",
    "hist, bins = np.histogram(a, bins=100, normed=True)\n",
    "bin_centers = (bins[1:]+bins[:-1])*0.5\n",
    "ax[0].plot(bin_centers, hist)\n",
    "ax[0].set(title = 'Hue')\n",
    "\n",
    "a = image_hsv[:,:,1]\n",
    "hist, bins = np.histogram(a, bins=100, normed=True)\n",
    "bin_centers = (bins[1:]+bins[:-1])*0.5\n",
    "ax[1].plot(bin_centers, hist)\n",
    "ax[1].set(title = 'Saturation', xlim = [0,1])\n",
    "\n",
    "a = image_hsv[:,:,2]\n",
    "hist, bins = np.histogram(a, bins=100, normed=True)\n",
    "bin_centers = (bins[1:]+bins[:-1])*0.5\n",
    "ax[2].plot(bin_centers, hist)\n",
    "ax[2].set(title = 'Value', xlim = [0,1])"
   ]
  },
  {
   "cell_type": "code",
   "execution_count": null,
   "metadata": {},
   "outputs": [],
   "source": []
  }
 ],
 "metadata": {
  "kernelspec": {
   "display_name": "Python 3",
   "language": "python",
   "name": "python3"
  },
  "language_info": {
   "codemirror_mode": {
    "name": "ipython",
    "version": 3
   },
   "file_extension": ".py",
   "mimetype": "text/x-python",
   "name": "python",
   "nbconvert_exporter": "python",
   "pygments_lexer": "ipython3",
   "version": "3.7.3"
  }
 },
 "nbformat": 4,
 "nbformat_minor": 4
}
